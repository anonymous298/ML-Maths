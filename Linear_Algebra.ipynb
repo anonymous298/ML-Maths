{
 "cells": [
  {
   "cell_type": "code",
   "execution_count": 1,
   "id": "75b0c994-2479-4821-8c3b-0cf1eae1384d",
   "metadata": {},
   "outputs": [],
   "source": [
    "import numpy as np"
   ]
  },
  {
   "cell_type": "code",
   "execution_count": 9,
   "id": "4cadccf8-576e-4f2f-ba44-b9bf11e9f560",
   "metadata": {},
   "outputs": [
    {
     "data": {
      "text/plain": [
       "array([[230],\n",
       "       [128]])"
      ]
     },
     "execution_count": 9,
     "metadata": {},
     "output_type": "execute_result"
    }
   ],
   "source": [
    "# Vector Addition\n",
    "a = np.array([[10,4]])\n",
    "b = np.array([[23,32]])\n",
    "(a + b).T"
   ]
  },
  {
   "cell_type": "code",
   "execution_count": 8,
   "id": "9f8b5f36-d771-4339-bc5a-0e15097ce6f5",
   "metadata": {},
   "outputs": [
    {
     "data": {
      "text/plain": [
       "array([[50, 80]])"
      ]
     },
     "execution_count": 8,
     "metadata": {},
     "output_type": "execute_result"
    }
   ],
   "source": [
    "a = 2\n",
    "u = np.array([[25,40]])\n",
    "\n",
    "a*u"
   ]
  },
  {
   "cell_type": "code",
   "execution_count": 12,
   "id": "0b74489b-2dad-4ba6-a6bc-14923d372906",
   "metadata": {},
   "outputs": [
    {
     "data": {
      "text/plain": [
       "1735"
      ]
     },
     "execution_count": 12,
     "metadata": {},
     "output_type": "execute_result"
    }
   ],
   "source": [
    "u = np.array([23,43])\n",
    "v = np.array([53,12])\n",
    "\n",
    "np.dot(u,v)"
   ]
  },
  {
   "cell_type": "code",
   "execution_count": 15,
   "id": "a156d58c-4c99-4f83-9da3-6ea5efd163ec",
   "metadata": {},
   "outputs": [
    {
     "data": {
      "text/plain": [
       "array([[88, 68],\n",
       "       [75, 66],\n",
       "       [77, 58]])"
      ]
     },
     "execution_count": 15,
     "metadata": {},
     "output_type": "execute_result"
    }
   ],
   "source": [
    "# matrix addition\n",
    "a = np.array([[45,34],[54,21],[23,13]])\n",
    "b = np.array([[43,34],[21,45],[54,45]])\n",
    "\n",
    "a + b"
   ]
  },
  {
   "cell_type": "code",
   "execution_count": 16,
   "id": "98b64f44-5630-41e8-91f9-8a04e7c1542d",
   "metadata": {},
   "outputs": [
    {
     "data": {
      "text/plain": [
       "array([[10, 20],\n",
       "       [30, 15],\n",
       "       [35,  5]])"
      ]
     },
     "execution_count": 16,
     "metadata": {},
     "output_type": "execute_result"
    }
   ],
   "source": [
    "# Matrix Scalar Multiplication\n",
    "a = 5\n",
    "b = np.array([[2,4],[6,3],[7,1]])\n",
    "\n",
    "a * b"
   ]
  },
  {
   "cell_type": "code",
   "execution_count": 17,
   "id": "d200a38f-858b-487d-99f1-67c4b1df3403",
   "metadata": {},
   "outputs": [
    {
     "data": {
      "text/plain": [
       "array([32, 38])"
      ]
     },
     "execution_count": 17,
     "metadata": {},
     "output_type": "execute_result"
    }
   ],
   "source": [
    "# Matrix and Vector Multiplication\n",
    "a = [[2,4],[5,3]]\n",
    "b = [4,6]\n",
    "\n",
    "np.dot(a,b)"
   ]
  },
  {
   "cell_type": "code",
   "execution_count": 22,
   "id": "30be7b39-8c4b-4d20-9f9a-1255a4ac8cda",
   "metadata": {},
   "outputs": [
    {
     "data": {
      "text/plain": [
       "array([[30, 31],\n",
       "       [19, 18],\n",
       "       [31, 29]])"
      ]
     },
     "execution_count": 22,
     "metadata": {},
     "output_type": "execute_result"
    }
   ],
   "source": [
    "# Matrix And Matrix Multiplication\n",
    "a = np.array([[4,5],[3,2],[5,3]])\n",
    "b = np.array([[5,4],[2,3]])\n",
    "\n",
    "np.dot(a,b)"
   ]
  },
  {
   "cell_type": "code",
   "execution_count": 25,
   "id": "bbba6ff6-9e0c-4e67-8acc-417c28cb8c7f",
   "metadata": {},
   "outputs": [
    {
     "name": "stdout",
     "output_type": "stream",
     "text": [
      "[[4 5]\n",
      " [3 2]\n",
      " [5 3]]\n"
     ]
    },
    {
     "data": {
      "text/plain": [
       "array([[4, 3, 5],\n",
       "       [5, 2, 3]])"
      ]
     },
     "execution_count": 25,
     "metadata": {},
     "output_type": "execute_result"
    }
   ],
   "source": [
    "# Matrix Transpose\n",
    "print(a)\n",
    "a.T"
   ]
  },
  {
   "cell_type": "code",
   "execution_count": 27,
   "id": "70041c24-09de-4db5-a628-280526a0f432",
   "metadata": {},
   "outputs": [
    {
     "data": {
      "text/plain": [
       "array([[1., 0., 0.],\n",
       "       [0., 1., 0.],\n",
       "       [0., 0., 1.]])"
      ]
     },
     "execution_count": 27,
     "metadata": {},
     "output_type": "execute_result"
    }
   ],
   "source": [
    "# Identity Matrix\n",
    "np.eye(3)"
   ]
  },
  {
   "cell_type": "code",
   "execution_count": 2,
   "id": "57410f2a-4e5b-4167-8cb2-435baa931439",
   "metadata": {},
   "outputs": [],
   "source": [
    "import numpy as np\n",
    "import matplotlib.pyplot as plt"
   ]
  },
  {
   "cell_type": "code",
   "execution_count": 3,
   "id": "6cb833d0-be73-44f8-9fb2-3770a3609050",
   "metadata": {},
   "outputs": [],
   "source": [
    "t = np.linspace(0,40,1000)\n",
    "\n",
    "d_r = 2.5 * t\n",
    "\n",
    "d_s = 3 * (t-5)"
   ]
  },
  {
   "cell_type": "code",
   "execution_count": 32,
   "id": "2f354af3-cf98-43b6-830f-afcee5c10f97",
   "metadata": {},
   "outputs": [
    {
     "data": {
      "text/plain": [
       "(0.0, 100.0)"
      ]
     },
     "execution_count": 32,
     "metadata": {},
     "output_type": "execute_result"
    },
    {
     "data": {
      "image/png": "[encoded data removed]",
      "text/plain": [
       "<Figure size 640x480 with 1 Axes>"
      ]
     },
     "metadata": {},
     "output_type": "display_data"
    }
   ],
   "source": [
    "fig, ax = plt.subplots()\n",
    "plt.plot(t,d_r, color='red')\n",
    "plt.plot(t, d_s, color='tab:orange')\n",
    "plt.axvline(x=30, color='purple', linestyle='--')\n",
    "plt.axhline(y=75, color='purple', linestyle='--')\n",
    "ax.set_xlim([0,40])\n",
    "ax.set_ylim([0,100])"
   ]
  },
  {
   "cell_type": "code",
   "execution_count": 19,
   "id": "47a9f74e-26c2-4efc-8a39-ba08514e8490",
   "metadata": {},
   "outputs": [],
   "source": [
    "# Vector Transposition\n",
    "x = np.array([[23,34,43]])"
   ]
  },
  {
   "cell_type": "code",
   "execution_count": 20,
   "id": "0f18eaec-79c5-411e-a3c1-812fbc951ab2",
   "metadata": {},
   "outputs": [
    {
     "data": {
      "text/plain": [
       "(1, 3)"
      ]
     },
     "execution_count": 20,
     "metadata": {},
     "output_type": "execute_result"
    }
   ],
   "source": [
    "x.shape"
   ]
  },
  {
   "cell_type": "code",
   "execution_count": 30,
   "id": "120aab73-6a2f-41b4-856b-93a9e27bc6f1",
   "metadata": {},
   "outputs": [],
   "source": [
    "x = x.T"
   ]
  },
  {
   "cell_type": "code",
   "execution_count": 31,
   "id": "1d5af67a-2fbd-4529-969e-6bab5e48a594",
   "metadata": {},
   "outputs": [
    {
     "data": {
      "text/plain": [
       "array([[23, 34, 43]])"
      ]
     },
     "execution_count": 31,
     "metadata": {},
     "output_type": "execute_result"
    }
   ],
   "source": [
    "x"
   ]
  },
  {
   "cell_type": "code",
   "execution_count": 43,
   "id": "d75c77f2-974a-4240-8382-6c28d5af9b40",
   "metadata": {},
   "outputs": [
    {
     "data": {
      "text/plain": [
       "array([[3, 2],\n",
       "       [1, 5],\n",
       "       [4, 2]])"
      ]
     },
     "execution_count": 43,
     "metadata": {},
     "output_type": "execute_result"
    }
   ],
   "source": [
    "x = np.array([[3,2],[1,5],[4,2]])\n",
    "x"
   ]
  },
  {
   "cell_type": "code",
   "execution_count": 44,
   "id": "f2826091-9be9-4f0f-8fa3-58e5222d5804",
   "metadata": {},
   "outputs": [
    {
     "data": {
      "text/plain": [
       "array([[3, 1, 4],\n",
       "       [2, 5, 2]])"
      ]
     },
     "execution_count": 44,
     "metadata": {},
     "output_type": "execute_result"
    }
   ],
   "source": [
    "x.T"
   ]
  },
  {
   "cell_type": "code",
   "execution_count": 39,
   "id": "84c019cd-73e5-4e31-b73a-75b10004d5ff",
   "metadata": {},
   "outputs": [
    {
     "data": {
      "text/plain": [
       "array([[3, 2],\n",
       "       [1, 5]])"
      ]
     },
     "execution_count": 39,
     "metadata": {},
     "output_type": "execute_result"
    }
   ],
   "source": [
    "x[0:2,0:2]"
   ]
  },
  {
   "cell_type": "code",
   "execution_count": null,
   "id": "7d950e0e-7ede-4e41-9871-586978e23a84",
   "metadata": {},
   "outputs": [],
   "source": []
  }
 ],
 "metadata": {
  "kernelspec": {
   "display_name": "Python 3 (ipykernel)",
   "language": "python",
   "name": "python3"
  },
  "language_info": {
   "codemirror_mode": {
    "name": "ipython",
    "version": 3
   },
   "file_extension": ".py",
   "mimetype": "text/x-python",
   "name": "python",
   "nbconvert_exporter": "python",
   "pygments_lexer": "ipython3",
   "version": "3.12.2"
  }
 },
 "nbformat": 4,
 "nbformat_minor": 5
}
