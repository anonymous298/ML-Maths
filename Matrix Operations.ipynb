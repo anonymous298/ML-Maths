{
 "cells": [
  {
   "cell_type": "code",
   "execution_count": 1,
   "id": "54fa0288-d367-4fbf-98c3-ea8175e0af6b",
   "metadata": {},
   "outputs": [],
   "source": [
    "import numpy as np"
   ]
  },
  {
   "cell_type": "markdown",
   "id": "3af21f72-acd4-4440-8036-acdb964c1d72",
   "metadata": {},
   "source": [
    "# **Matrix Addition**"
   ]
  },
  {
   "cell_type": "markdown",
   "id": "ff877616-1776-490a-bcc6-b115c827608a",
   "metadata": {},
   "source": [
    "![](https://th.bing.com/th/id/OIP.GnqTr65fY_Q4VyslD1ixUQAAAA?rs=1&pid=ImgDetMain)"
   ]
  },
  {
   "cell_type": "code",
   "execution_count": null,
   "id": "1c169123-a251-4df5-97d2-3aac0d67f934",
   "metadata": {},
   "outputs": [],
   "source": []
  }
 ],
 "metadata": {
  "kernelspec": {
   "display_name": "Python 3 (ipykernel)",
   "language": "python",
   "name": "python3"
  },
  "language_info": {
   "codemirror_mode": {
    "name": "ipython",
    "version": 3
   },
   "file_extension": ".py",
   "mimetype": "text/x-python",
   "name": "python",
   "nbconvert_exporter": "python",
   "pygments_lexer": "ipython3",
   "version": "3.12.2"
  }
 },
 "nbformat": 4,
 "nbformat_minor": 5
}
