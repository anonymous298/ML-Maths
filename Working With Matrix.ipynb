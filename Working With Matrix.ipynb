{
 "cells": [
  {
   "cell_type": "code",
   "execution_count": 1,
   "id": "501cfc45-3766-4b92-81d6-454f879f3c64",
   "metadata": {},
   "outputs": [],
   "source": [
    "import numpy as np"
   ]
  },
  {
   "cell_type": "markdown",
   "id": "87514488-422c-4ee4-8c95-8ec2e2e69e54",
   "metadata": {},
   "source": [
    "# Creating a Matrix using numpy"
   ]
  },
  {
   "cell_type": "code",
   "execution_count": 2,
   "id": "f8719d00-b20c-4e91-aaa2-8ad64e9dbe8f",
   "metadata": {},
   "outputs": [
    {
     "data": {
      "text/plain": [
       "array([[2, 4],\n",
       "       [5, 4]])"
      ]
     },
     "execution_count": 2,
     "metadata": {},
     "output_type": "execute_result"
    }
   ],
   "source": [
    "matrix_1 = np.array([[2,4],[5,4]])\n",
    "\n",
    "matrix_1"
   ]
  },
  {
   "cell_type": "code",
   "execution_count": 3,
   "id": "9c8d0399-5da4-4c22-844d-c00be23645a3",
   "metadata": {},
   "outputs": [
    {
     "data": {
      "text/plain": [
       "(2, 2)"
      ]
     },
     "execution_count": 3,
     "metadata": {},
     "output_type": "execute_result"
    }
   ],
   "source": [
    "matrix_1.shape"
   ]
  },
  {
   "cell_type": "code",
   "execution_count": 4,
   "id": "a8791585-8fbf-44aa-8142-244c42a1ae3b",
   "metadata": {},
   "outputs": [
    {
     "data": {
      "text/plain": [
       "array([[34, 45, 65],\n",
       "       [54, 23, 12],\n",
       "       [45, 56, 42]])"
      ]
     },
     "execution_count": 4,
     "metadata": {},
     "output_type": "execute_result"
    }
   ],
   "source": [
    "matrix_2 = np.array([[34, 45, 65],[54,23,12], [45,56,42]])\n",
    "\n",
    "matrix_2"
   ]
  },
  {
   "cell_type": "code",
   "execution_count": 6,
   "id": "e5b5ff8f-9ea4-4a66-8167-be294ad6bb0a",
   "metadata": {},
   "outputs": [
    {
     "data": {
      "text/plain": [
       "array([[0, 1, 2],\n",
       "       [2, 1, 0],\n",
       "       [2, 0, 1]], dtype=int64)"
      ]
     },
     "execution_count": 6,
     "metadata": {},
     "output_type": "execute_result"
    }
   ],
   "source": [
    "matrix_2.argsort(axis=1)"
   ]
  },
  {
   "cell_type": "markdown",
   "id": "9e547784-a88d-4c7c-b22c-bfbae6c01f6c",
   "metadata": {},
   "source": [
    "# Creating Matices With Random Values\n"
   ]
  },
  {
   "cell_type": "code",
   "execution_count": 7,
   "id": "b16de92e-fe29-47d9-813c-abfa1ecb72bb",
   "metadata": {},
   "outputs": [
    {
     "data": {
      "text/plain": [
       "array([[0.41700176, 0.49790975, 0.10543897],\n",
       "       [0.95478094, 0.31759534, 0.73137174],\n",
       "       [0.11179938, 0.76082519, 0.14400775]])"
      ]
     },
     "execution_count": 7,
     "metadata": {},
     "output_type": "execute_result"
    }
   ],
   "source": [
    "random_matrix = np.random.rand(3,3)\n",
    "\n",
    "random_matrix"
   ]
  },
  {
   "cell_type": "code",
   "execution_count": 9,
   "id": "3448f376-6307-47b5-978d-b314e759f369",
   "metadata": {},
   "outputs": [
    {
     "data": {
      "text/plain": [
       "array([[5, 1, 4],\n",
       "       [6, 4, 4],\n",
       "       [1, 0, 8]])"
      ]
     },
     "execution_count": 9,
     "metadata": {},
     "output_type": "execute_result"
    }
   ],
   "source": [
    "# Random Matrix with Integer Values\n",
    "rand_mat = np.random.randint(10, size=(3,3))\n",
    "\n",
    "rand_mat"
   ]
  },
  {
   "cell_type": "markdown",
   "id": "69037ca7-5af0-4dbf-b31d-0c573403a30d",
   "metadata": {},
   "source": [
    "# Matrix With All Values 1"
   ]
  },
  {
   "cell_type": "code",
   "execution_count": 19,
   "id": "68d90b3e-7457-4ea8-92c9-f21a7f50a908",
   "metadata": {},
   "outputs": [
    {
     "data": {
      "text/plain": [
       "array([[1., 1., 1.],\n",
       "       [1., 1., 1.],\n",
       "       [1., 1., 1.]])"
      ]
     },
     "execution_count": 19,
     "metadata": {},
     "output_type": "execute_result"
    }
   ],
   "source": [
    "matrix = np.ones((3,3))\n",
    "\n",
    "matrix"
   ]
  },
  {
   "cell_type": "code",
   "execution_count": 20,
   "id": "d9787b39-0314-4839-a192-19ec27b7627c",
   "metadata": {},
   "outputs": [
    {
     "data": {
      "text/plain": [
       "dtype('float64')"
      ]
     },
     "execution_count": 20,
     "metadata": {},
     "output_type": "execute_result"
    }
   ],
   "source": [
    "matrix.dtype"
   ]
  },
  {
   "cell_type": "code",
   "execution_count": 24,
   "id": "ed961939-9508-465b-9330-848c9b787df4",
   "metadata": {},
   "outputs": [
    {
     "data": {
      "text/plain": [
       "array([[1, 1, 1],\n",
       "       [1, 1, 1],\n",
       "       [1, 1, 1]])"
      ]
     },
     "execution_count": 24,
     "metadata": {},
     "output_type": "execute_result"
    }
   ],
   "source": [
    "matrix = np.ones((3,3), dtype=int)\n",
    "\n",
    "matrix"
   ]
  },
  {
   "cell_type": "markdown",
   "id": "33cce614-0c7c-4560-bf7c-aa489d10686e",
   "metadata": {},
   "source": [
    "# Null Matrix"
   ]
  },
  {
   "cell_type": "code",
   "execution_count": 26,
   "id": "8df71fca-30e0-4448-86bd-f2e1eac16972",
   "metadata": {},
   "outputs": [
    {
     "data": {
      "text/plain": [
       "array([[0., 0., 0.],\n",
       "       [0., 0., 0.],\n",
       "       [0., 0., 0.]])"
      ]
     },
     "execution_count": 26,
     "metadata": {},
     "output_type": "execute_result"
    }
   ],
   "source": [
    "null_matrix = np.zeros((3,3))\n",
    "\n",
    "null_matrix"
   ]
  },
  {
   "cell_type": "markdown",
   "id": "9330de47-c277-43ce-ae23-e528eec4b2b4",
   "metadata": {},
   "source": [
    "# Identity Matrix"
   ]
  },
  {
   "cell_type": "code",
   "execution_count": 30,
   "id": "1bb6a7da-68d4-4d35-8ecb-fcaa0259caf8",
   "metadata": {},
   "outputs": [
    {
     "data": {
      "text/plain": [
       "array([[1., 0., 0., 0., 0., 0.],\n",
       "       [0., 1., 0., 0., 0., 0.],\n",
       "       [0., 0., 1., 0., 0., 0.],\n",
       "       [0., 0., 0., 1., 0., 0.],\n",
       "       [0., 0., 0., 0., 1., 0.],\n",
       "       [0., 0., 0., 0., 0., 1.]])"
      ]
     },
     "execution_count": 30,
     "metadata": {},
     "output_type": "execute_result"
    }
   ],
   "source": [
    "matrix = np.eye(6,6)\n",
    "\n",
    "matrix"
   ]
  },
  {
   "cell_type": "markdown",
   "id": "235072a1-bca5-4177-9a15-4b6d52032e28",
   "metadata": {},
   "source": [
    "# Transpose Of A Matrix"
   ]
  },
  {
   "cell_type": "code",
   "execution_count": 41,
   "id": "2dcd300a-b3eb-43ab-839b-67e58267e260",
   "metadata": {},
   "outputs": [],
   "source": [
    "matrix = np.random.randint(100,size=(3,3))"
   ]
  },
  {
   "cell_type": "code",
   "execution_count": 42,
   "id": "305388a3-e086-4501-8189-b651bd76af1d",
   "metadata": {},
   "outputs": [
    {
     "data": {
      "text/plain": [
       "array([[62, 77, 57],\n",
       "       [32, 64,  3],\n",
       "       [70, 55, 51]])"
      ]
     },
     "execution_count": 42,
     "metadata": {},
     "output_type": "execute_result"
    }
   ],
   "source": [
    "matrix"
   ]
  },
  {
   "cell_type": "code",
   "execution_count": 45,
   "id": "00cc6b13-e582-4355-963e-1ab4503646ac",
   "metadata": {},
   "outputs": [
    {
     "data": {
      "text/plain": [
       "array([[62, 32, 70],\n",
       "       [77, 64, 55],\n",
       "       [57,  3, 51]])"
      ]
     },
     "execution_count": 45,
     "metadata": {},
     "output_type": "execute_result"
    }
   ],
   "source": [
    "transpose_matrix = matrix.T\n",
    "\n",
    "transpose_matrix"
   ]
  },
  {
   "cell_type": "code",
   "execution_count": 46,
   "id": "d7f9044b-aaf0-445e-a489-42e7e5b72feb",
   "metadata": {},
   "outputs": [],
   "source": [
    "matrix = np.random.randint(10,size=(4,5))"
   ]
  },
  {
   "cell_type": "code",
   "execution_count": 47,
   "id": "3368642a-3ad9-4448-8222-b0e19b8d0339",
   "metadata": {},
   "outputs": [
    {
     "data": {
      "text/plain": [
       "array([[2, 9, 1, 0, 3],\n",
       "       [5, 4, 0, 4, 4],\n",
       "       [4, 3, 0, 1, 6],\n",
       "       [1, 1, 1, 8, 4]])"
      ]
     },
     "execution_count": 47,
     "metadata": {},
     "output_type": "execute_result"
    }
   ],
   "source": [
    "matrix"
   ]
  },
  {
   "cell_type": "code",
   "execution_count": 48,
   "id": "53791354-33d9-4138-9330-9d3d3d81a1b1",
   "metadata": {},
   "outputs": [
    {
     "data": {
      "text/plain": [
       "array([[2, 5, 4, 1],\n",
       "       [9, 4, 3, 1],\n",
       "       [1, 0, 0, 1],\n",
       "       [0, 4, 1, 8],\n",
       "       [3, 4, 6, 4]])"
      ]
     },
     "execution_count": 48,
     "metadata": {},
     "output_type": "execute_result"
    }
   ],
   "source": [
    "matrix.T"
   ]
  },
  {
   "cell_type": "code",
   "execution_count": null,
   "id": "85ba9b73-f038-4ddd-8be7-689ddb52a19b",
   "metadata": {},
   "outputs": [],
   "source": []
  }
 ],
 "metadata": {
  "kernelspec": {
   "display_name": "Python 3 (ipykernel)",
   "language": "python",
   "name": "python3"
  },
  "language_info": {
   "codemirror_mode": {
    "name": "ipython",
    "version": 3
   },
   "file_extension": ".py",
   "mimetype": "text/x-python",
   "name": "python",
   "nbconvert_exporter": "python",
   "pygments_lexer": "ipython3",
   "version": "3.12.2"
  }
 },
 "nbformat": 4,
 "nbformat_minor": 5
}
